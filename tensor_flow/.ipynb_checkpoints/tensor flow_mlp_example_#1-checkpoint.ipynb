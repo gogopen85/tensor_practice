{
 "cells": [
  {
   "cell_type": "code",
   "execution_count": 2,
   "metadata": {},
   "outputs": [],
   "source": [
    "import tensorflow as tf \n",
    "import numpy as np\n",
    "from tensorflow.examples.tutorials.mnist import input_data"
   ]
  },
  {
   "cell_type": "code",
   "execution_count": 3,
   "metadata": {},
   "outputs": [
    {
     "name": "stdout",
     "output_type": "stream",
     "text": [
      "WARNING:tensorflow:From <ipython-input-3-71e12f4bac70>:1: read_data_sets (from tensorflow.contrib.learn.python.learn.datasets.mnist) is deprecated and will be removed in a future version.\n",
      "Instructions for updating:\n",
      "Please use alternatives such as official/mnist/dataset.py from tensorflow/models.\n",
      "WARNING:tensorflow:From /usr/local/lib/python3.5/dist-packages/tensorflow/contrib/learn/python/learn/datasets/mnist.py:260: maybe_download (from tensorflow.contrib.learn.python.learn.datasets.base) is deprecated and will be removed in a future version.\n",
      "Instructions for updating:\n",
      "Please write your own downloading logic.\n",
      "WARNING:tensorflow:From /usr/local/lib/python3.5/dist-packages/tensorflow/contrib/learn/python/learn/datasets/mnist.py:262: extract_images (from tensorflow.contrib.learn.python.learn.datasets.mnist) is deprecated and will be removed in a future version.\n",
      "Instructions for updating:\n",
      "Please use tf.data to implement this functionality.\n",
      "Extracting MNIST_data/train-images-idx3-ubyte.gz\n",
      "WARNING:tensorflow:From /usr/local/lib/python3.5/dist-packages/tensorflow/contrib/learn/python/learn/datasets/mnist.py:267: extract_labels (from tensorflow.contrib.learn.python.learn.datasets.mnist) is deprecated and will be removed in a future version.\n",
      "Instructions for updating:\n",
      "Please use tf.data to implement this functionality.\n",
      "Extracting MNIST_data/train-labels-idx1-ubyte.gz\n",
      "WARNING:tensorflow:From /usr/local/lib/python3.5/dist-packages/tensorflow/contrib/learn/python/learn/datasets/mnist.py:110: dense_to_one_hot (from tensorflow.contrib.learn.python.learn.datasets.mnist) is deprecated and will be removed in a future version.\n",
      "Instructions for updating:\n",
      "Please use tf.one_hot on tensors.\n",
      "Extracting MNIST_data/t10k-images-idx3-ubyte.gz\n",
      "Extracting MNIST_data/t10k-labels-idx1-ubyte.gz\n",
      "WARNING:tensorflow:From /usr/local/lib/python3.5/dist-packages/tensorflow/contrib/learn/python/learn/datasets/mnist.py:290: DataSet.__init__ (from tensorflow.contrib.learn.python.learn.datasets.mnist) is deprecated and will be removed in a future version.\n",
      "Instructions for updating:\n",
      "Please use alternatives such as official/mnist/dataset.py from tensorflow/models.\n"
     ]
    }
   ],
   "source": [
    "mnist = input_data.read_data_sets('MNIST_data', one_hot=True)"
   ]
  },
  {
   "cell_type": "code",
   "execution_count": 4,
   "metadata": {},
   "outputs": [],
   "source": [
    "import matplotlib\n",
    "import matplotlib.pyplot as plt\n",
    "%matplotlib inline"
   ]
  },
  {
   "cell_type": "code",
   "execution_count": 7,
   "metadata": {},
   "outputs": [],
   "source": [
    "#imgs.shape\n",
    "\n",
    "#(10,784) -> (2,5,28,28) -> (2,28,5,28) ->(2*28,5*28)"
   ]
  },
  {
   "cell_type": "code",
   "execution_count": 5,
   "metadata": {},
   "outputs": [
    {
     "data": {
      "text/plain": [
       "<matplotlib.image.AxesImage at 0x7f0ec17a16d8>"
      ]
     },
     "execution_count": 5,
     "metadata": {},
     "output_type": "execute_result"
    },
    {
     "data": {
      "image/png": "[encoded data removed]",
      "text/plain": [
       "<Figure size 864x864 with 1 Axes>"
      ]
     },
     "metadata": {
      "needs_background": "light"
     },
     "output_type": "display_data"
    }
   ],
   "source": [
    "ny = 3 \n",
    "nx = 8\n",
    "\n",
    "width = height = 28\n",
    "imgs, lables = mnist.train.next_batch(24)\n",
    "imgs = imgs.reshape(ny, nx, height, width).transpose(0,2,1,3).reshape(ny*height, nx*width)\n",
    "\n",
    "plt.figure(figsize=(12,12))\n",
    "\n",
    "plt.imshow(imgs, cmap='gray')"
   ]
  },
  {
   "cell_type": "code",
   "execution_count": 6,
   "metadata": {
    "scrolled": false
   },
   "outputs": [
    {
     "data": {
      "text/plain": [
       "array([3, 7, 1, 6, 5, 6, 5, 0, 4, 5, 2, 2, 3, 1, 6, 8, 7, 5, 8, 7, 6, 3,\n",
       "       1, 7])"
      ]
     },
     "execution_count": 6,
     "metadata": {},
     "output_type": "execute_result"
    }
   ],
   "source": [
    "np.argmax(lables, axis = -1)"
   ]
  },
  {
   "cell_type": "code",
   "execution_count": 7,
   "metadata": {},
   "outputs": [],
   "source": [
    "import functools\n",
    "from operator import mul\n",
    "def tensor_size(tensor):\n",
    "    return functools.reduce(mul, (d.value for d in tensor .get_shape()),1)"
   ]
  },
  {
   "cell_type": "code",
   "execution_count": 8,
   "metadata": {},
   "outputs": [
    {
     "name": "stdout",
     "output_type": "stream",
     "text": [
      "WARNING:tensorflow:From /usr/local/lib/python3.5/dist-packages/tensorflow/python/framework/op_def_library.py:263: colocate_with (from tensorflow.python.framework.ops) is deprecated and will be removed in a future version.\n",
      "Instructions for updating:\n",
      "Colocations handled automatically by placer.\n",
      "WARNING:tensorflow:From <ipython-input-8-9358351ba88f>:10: softmax_cross_entropy_with_logits (from tensorflow.python.ops.nn_ops) is deprecated and will be removed in a future version.\n",
      "Instructions for updating:\n",
      "\n",
      "Future major versions of TensorFlow will allow gradients to flow\n",
      "into the labels input on backprop by default.\n",
      "\n",
      "See `tf.nn.softmax_cross_entropy_with_logits_v2`.\n",
      "\n"
     ]
    }
   ],
   "source": [
    "tf.reset_default_graph()\n",
    "input = tf.placeholder(tf.float32, [None, 784], name='input')\n",
    "target = tf.placeholder(tf.float32, [None, 10], name='target')\n",
    "\n",
    "W = tf.Variable(tf.zeros([784,10]), name='W')\n",
    "b = tf.Variable(tf.zeros([10]), name='b')\n",
    "\n",
    "y = tf.matmul(input,W) + b\n",
    "\n",
    "cross_entropy = tf.reduce_mean(tf.nn.softmax_cross_entropy_with_logits(labels=target, logits=y))\n",
    "\n",
    "optimizer = tf.train.GradientDescentOptimizer(0.5)\n",
    "train_step = optimizer.minimize(cross_entropy)\n",
    "\n",
    "correct_prediction = tf.equal(tf.argmax(y,-1), tf.argmax(target, -1))\n",
    "accuracy = tf.reduce_mean(tf.cast(correct_prediction, tf.float32))\n",
    "\n"
   ]
  },
  {
   "cell_type": "code",
   "execution_count": 9,
   "metadata": {},
   "outputs": [],
   "source": [
    "a = tf.constant(1, dtype = tf.float32)\n",
    "b = tf.constant(2, dtype = tf.float32)\n",
    "c = a + b"
   ]
  },
  {
   "cell_type": "code",
   "execution_count": 10,
   "metadata": {
    "scrolled": true
   },
   "outputs": [
    {
     "data": {
      "text/plain": [
       "<tf.Tensor 'Mean:0' shape=() dtype=float32>"
      ]
     },
     "execution_count": 10,
     "metadata": {},
     "output_type": "execute_result"
    }
   ],
   "source": [
    "cross_entropy"
   ]
  },
  {
   "cell_type": "code",
   "execution_count": 11,
   "metadata": {},
   "outputs": [],
   "source": [
    "def get_all_variables(sess):\n",
    "    all_vars = tf.trainable_variables()\n",
    "    variable_dict = {}\n",
    "    sum = 0\n",
    "    for var in all_vars:\n",
    "        #print(var.name)\n",
    "        tensor_size(var)\n",
    "        _tensor_size = tensor_size(var)\n",
    "        sum = sum + _tensor_size\n",
    "        variable_dict[var.name] = sess.run(var.name)\n",
    "        print('{} {} {}'.format(var.name, var.get_shape(), _tensor_size))\n",
    "    print('total parameters =', sum)\n",
    "    return variable_dict"
   ]
  },
  {
   "cell_type": "code",
   "execution_count": 12,
   "metadata": {},
   "outputs": [],
   "source": [
    "def train(num_iterations):\n",
    "    with tf.Session() as sess:\n",
    "        sess.run(tf.global_variables_initializer())\n",
    "\n",
    "        for i in range(num_iterations):\n",
    "            batch_x, batch_y = mnist.train.next_batch(50)\n",
    "            sess.run(train_step, feed_dict={input: batch_x, target: batch_y})\n",
    "\n",
    "            if i % (num_iterations//10)== 0 :\n",
    "                _accuracy = sess.run(accuracy, feed_dict = {input: mnist.test.images, target: mnist.test.labels})\n",
    "                print('iter=%5.5d, accuracy=%lf'  %(i,_accuracy))\n",
    "\n",
    "        variables = get_all_variables(sess)\n",
    "    return variables"
   ]
  },
  {
   "cell_type": "code",
   "execution_count": 13,
   "metadata": {},
   "outputs": [
    {
     "name": "stdout",
     "output_type": "stream",
     "text": [
      "iter=00000, accuracy=0.203000\n",
      "iter=00100, accuracy=0.887900\n",
      "iter=00200, accuracy=0.898100\n",
      "iter=00300, accuracy=0.906500\n",
      "iter=00400, accuracy=0.909700\n",
      "iter=00500, accuracy=0.911100\n",
      "iter=00600, accuracy=0.892000\n",
      "iter=00700, accuracy=0.904000\n",
      "iter=00800, accuracy=0.911900\n",
      "iter=00900, accuracy=0.907700\n",
      "W:0 (784, 10) 7840\n",
      "b:0 (10,) 10\n",
      "total parameters = 7850\n"
     ]
    }
   ],
   "source": [
    "variables = train(1000)"
   ]
  },
  {
   "cell_type": "code",
   "execution_count": null,
   "metadata": {},
   "outputs": [],
   "source": []
  },
  {
   "cell_type": "code",
   "execution_count": 14,
   "metadata": {},
   "outputs": [
    {
     "data": {
      "text/plain": [
       "(784, 10)"
      ]
     },
     "execution_count": 14,
     "metadata": {},
     "output_type": "execute_result"
    }
   ],
   "source": [
    "variables['W:0'].shape"
   ]
  },
  {
   "cell_type": "code",
   "execution_count": 15,
   "metadata": {},
   "outputs": [
    {
     "data": {
      "text/plain": [
       "(10,)"
      ]
     },
     "execution_count": 15,
     "metadata": {},
     "output_type": "execute_result"
    }
   ],
   "source": [
    "variables['b:0'].shape"
   ]
  },
  {
   "cell_type": "code",
   "execution_count": 16,
   "metadata": {},
   "outputs": [
    {
     "data": {
      "text/plain": [
       "<matplotlib.image.AxesImage at 0x7f0ec1616358>"
      ]
     },
     "execution_count": 16,
     "metadata": {},
     "output_type": "execute_result"
    },
    {
     "data": {
      "image/png": "[encoded data removed]",
      "text/plain": [
       "<Figure size 864x864 with 1 Axes>"
      ]
     },
     "metadata": {
      "needs_background": "light"
     },
     "output_type": "display_data"
    }
   ],
   "source": [
    "ny = 2\n",
    "nx = 5\n",
    "width = height = 28\n",
    "\n",
    "_W = variables['W:0']\n",
    "\n",
    "_W = _W.reshape(height, width, ny, nx).transpose(2,0,3,1).reshape(ny*height, nx*width)\n",
    "\n",
    "plt.figure(figsize=(12,12))\n",
    "\n",
    "plt.imshow(_W, cmap='seismic')"
   ]
  },
  {
   "cell_type": "code",
   "execution_count": null,
   "metadata": {},
   "outputs": [],
   "source": []
  },
  {
   "cell_type": "code",
   "execution_count": 17,
   "metadata": {},
   "outputs": [],
   "source": [
    "tf.reset_default_graph()\n",
    "input = tf.placeholder(tf.float32, [None, 784], name='input')\n",
    "target = tf.placeholder(tf.float32, [None, 10], name='target')\n",
    "\n",
    "y = tf.contrib.layers.fully_connected(input, 10, activation_fn=None)\n",
    "\n",
    "cross_entropy = tf.reduce_mean(tf.nn.softmax_cross_entropy_with_logits(labels=target, logits=y))\n",
    "\n",
    "optimizer = tf.train.GradientDescentOptimizer(0.5)\n",
    "train_step = optimizer.minimize(cross_entropy)\n",
    "\n",
    "correct_prediction = tf.equal(tf.argmax(y,-1), tf.argmax(target, -1))\n",
    "accuracy = tf.reduce_mean(tf.cast(correct_prediction, tf.float32))"
   ]
  },
  {
   "cell_type": "code",
   "execution_count": 18,
   "metadata": {},
   "outputs": [
    {
     "name": "stdout",
     "output_type": "stream",
     "text": [
      "iter=00000, accuracy=0.229900\n",
      "iter=01000, accuracy=0.914900\n",
      "iter=02000, accuracy=0.915300\n",
      "iter=03000, accuracy=0.917200\n",
      "iter=04000, accuracy=0.919300\n",
      "iter=05000, accuracy=0.919500\n",
      "iter=06000, accuracy=0.921200\n",
      "iter=07000, accuracy=0.918200\n",
      "iter=08000, accuracy=0.921900\n",
      "iter=09000, accuracy=0.915200\n",
      "fully_connected/weights:0 (784, 10) 7840\n",
      "fully_connected/biases:0 (10,) 10\n",
      "total parameters = 7850\n"
     ]
    }
   ],
   "source": [
    "variables = train(10000)"
   ]
  },
  {
   "cell_type": "code",
   "execution_count": 19,
   "metadata": {},
   "outputs": [
    {
     "data": {
      "text/plain": [
       "<matplotlib.image.AxesImage at 0x7f0ec1527160>"
      ]
     },
     "execution_count": 19,
     "metadata": {},
     "output_type": "execute_result"
    },
    {
     "data": {
      "image/png": "[encoded data removed]",
      "text/plain": [
       "<Figure size 864x864 with 1 Axes>"
      ]
     },
     "metadata": {
      "needs_background": "light"
     },
     "output_type": "display_data"
    }
   ],
   "source": [
    "ny = 2\n",
    "nx = 5\n",
    "width = height = 28\n",
    "\n",
    "_W = variables['fully_connected/weights:0']\n",
    "\n",
    "_W = _W.reshape(height, width, ny, nx).transpose(2,0,3,1).reshape(ny*height, nx*width)\n",
    "\n",
    "plt.figure(figsize=(12,12))\n",
    "\n",
    "plt.imshow(_W, cmap='seismic')"
   ]
  },
  {
   "cell_type": "code",
   "execution_count": null,
   "metadata": {},
   "outputs": [],
   "source": []
  },
  {
   "cell_type": "code",
   "execution_count": 143,
   "metadata": {},
   "outputs": [],
   "source": [
    "tf.reset_default_graph()\n",
    "input = tf.placeholder(tf.float32, [None, 784], name='input')\n",
    "target = tf.placeholder(tf.float32, [None, 10], name='target')\n",
    "\n",
    "h = tf.contrib.layers.fully_connected(input, 900, activation_fn=tf.nn.relu) #\n",
    "h = tf.contrib.layers.fully_connected(h, 400, activation_fn=tf.nn.relu) #\n",
    "y = tf.contrib.layers.fully_connected(h, 10, activation_fn=None) #\n",
    "\n",
    "\n",
    "cross_entropy = tf.reduce_mean(tf.nn.softmax_cross_entropy_with_logits(labels=target, logits=y))\n",
    "\n",
    "optimizer = tf.train.AdagradOptimizer(0.1)\n",
    "#GradientDescentOptimizer 0.33 97%\n",
    "#GradientDescentOptimizer 0.15 97.4%\n",
    "#GradientDescentOptimizer 0.1 97.9%\n",
    "#GradientDescentOptimizer 0.09 97.6%\n",
    "#GradientDescentOptimizer 0.1 input 200, h 30  97.9% \n",
    "\n",
    "#AdamOptimizer 0.001 98.1% \n",
    "#AdamOptimizer 0.0001 96.5% \n",
    "#AdamOptimizer 0.001 input 200, h 80 97.9% \n",
    "#AdamOptimizer 0.001 input 500, h 100 98.1% \n",
    "\n",
    "#AdadeltaOptimizer 1 97.4%\n",
    "#AdadeltaOptimizer 0.9 97.5%\n",
    "#AdadeltaOptimizer 0.1 93.9%\n",
    "#AdadeltaOptimizer 0.5 96.8%\n",
    "#AdadeltaOptimizer 0.6 97.1%\n",
    "#AdadeltaOptimizer 0.8 97.1%\n",
    "\n",
    "#AdadeltaOptimizer 0.8 train(100000)  98.0%\n",
    "\n",
    "#AdamOptimizer 1 9%\n",
    "#AdamOptimizer 0.1 9%\n",
    "\n",
    "#AdagradOptimizer 0.1 98.2 %\n",
    "#AdagradOptimizer 0.1 input 200 98.0 %\n",
    "#AdagradOptimizer 0.1 input 200, h 60 98.1 %\n",
    "#AdagradOptimizer 0.1 input 180, h 60 98.0 %\n",
    "#AdagradOptimizer 0.1 input 190, h 70 98.1 %\n",
    "\n",
    "#AdagradOptimizer 0.1 input 180, h 60 98.3 %\n",
    "#AdagradOptimizer 0.1 input 180, h 60, train(100000) 98.3 %\n",
    "\n",
    "#AdamOptimizer 0.001 input 500, h 100 98.1% \n",
    "\n",
    "#AdagradOptimizer 0.1 input 600, h 150 98.4 %\n",
    "#AdagradOptimizer 0.1 input 600, h 200 98.4 %\n",
    "#AdagradOptimizer 0.1 input 700, h 200 98.3 %\n",
    "\n",
    "#AdagradOptimizer 0.1 input 700, h 200 98.4 %\n",
    "#AdagradOptimizer 0.1 input 700, h 250 98.3 %\n",
    "#AdagradOptimizer 0.1 input 800, h 250 98.4 %\n",
    "#AdagradOptimizer 0.1 input 900, h 250 98.3 %\n",
    "#AdagradOptimizer 0.1 input 900, h 400 98.4 %\n",
    "\n",
    "\n",
    "#AdagradOptimizer 0.1 input 900, h 400, train(20000) 98.5 %\n",
    "\n",
    "train_step = optimizer.minimize(cross_entropy)\n",
    "\n",
    "correct_prediction = tf.equal(tf.argmax(y,-1), tf.argmax(target, -1))\n",
    "accuracy = tf.reduce_mean(tf.cast(correct_prediction, tf.float32))"
   ]
  },
  {
   "cell_type": "code",
   "execution_count": null,
   "metadata": {},
   "outputs": [
    {
     "name": "stdout",
     "output_type": "stream",
     "text": [
      "iter=00000, accuracy=0.247900\n",
      "iter=02000, accuracy=0.974400\n"
     ]
    }
   ],
   "source": [
    "variables = train(20000)\n",
    "# 98.5"
   ]
  },
  {
   "cell_type": "code",
   "execution_count": null,
   "metadata": {},
   "outputs": [],
   "source": [
    "ny = 10\n",
    "nx = 14\n",
    "width = height = 28\n",
    "\n",
    "_W = variables['fully_connected/weights:0']\n",
    "\n",
    "_W = _W.reshape(height, width, ny, nx).transpose(2,0,3,1).reshape(ny*height, nx*width)\n",
    "\n",
    "plt.figure(figsize=(12,12))\n",
    "\n",
    "plt.imshow(_W, cmap='seismic')"
   ]
  }
 ],
 "metadata": {
  "kernelspec": {
   "display_name": "Python 3",
   "language": "python",
   "name": "python3"
  },
  "language_info": {
   "codemirror_mode": {
    "name": "ipython",
    "version": 3
   },
   "file_extension": ".py",
   "mimetype": "text/x-python",
   "name": "python",
   "nbconvert_exporter": "python",
   "pygments_lexer": "ipython3",
   "version": "3.5.2"
  }
 },
 "nbformat": 4,
 "nbformat_minor": 2
}
