{
 "cells": [
  {
   "cell_type": "code",
   "execution_count": null,
   "metadata": {},
   "outputs": [],
   "source": []
  },
  {
   "cell_type": "code",
   "execution_count": 1,
   "metadata": {},
   "outputs": [],
   "source": [
    "import numpy as np\n",
    "import tensorflow as tf"
   ]
  },
  {
   "cell_type": "code",
   "execution_count": 2,
   "metadata": {},
   "outputs": [],
   "source": [
    "filter_np = np.arange(1,10).reshape(3,3,1,1).astype(np.float32)\n",
    "input_np = np.arange(1,17).reshape(1,4,4,1).astype('float32')"
   ]
  },
  {
   "cell_type": "markdown",
   "metadata": {},
   "source": [
    "Conv2D"
   ]
  },
  {
   "cell_type": "code",
   "execution_count": 31,
   "metadata": {},
   "outputs": [
    {
     "name": "stdout",
     "output_type": "stream",
     "text": [
      "_input\n",
      " [[ 1.  2.  3.  4.]\n",
      " [ 5.  6.  7.  8.]\n",
      " [ 9. 10. 11. 12.]\n",
      " [13. 14. 15. 16.]]\n",
      "_filter\n",
      " [[1. 2. 3.]\n",
      " [4. 5. 6.]\n",
      " [7. 8. 9.]]\n",
      "_output\n",
      " [[111. 178. 217. 145.]\n",
      " [231. 348. 393. 252.]\n",
      " [363. 528. 573. 360.]\n",
      " [197. 274. 295. 175.]]\n"
     ]
    }
   ],
   "source": [
    "tf.reset_default_graph()\n",
    "filter = tf.Variable(filter_np)\n",
    "input = tf.Variable(input_np)\n",
    "output = tf.nn.conv2d(input, filter, [1,1,1,1], 'SAME')\n",
    "\n",
    "with tf.Session() as sess:\n",
    "    sess.run(tf.global_variables_initializer())\n",
    "    _input, _filter, _output = sess.run([input, filter, output])\n",
    "    _input = np.squeeze(_input)\n",
    "    _filter = np.squeeze(_filter)\n",
    "    _output = np.squeeze(_output)\n",
    "\n",
    "print('_input\\n',_input)\n",
    "print('_filter\\n',_filter)\n",
    "print('_output\\n',_output)\n"
   ]
  },
  {
   "cell_type": "code",
   "execution_count": 16,
   "metadata": {},
   "outputs": [],
   "source": [
    "assert 111 == 5*1+6*2+8*5+9*6"
   ]
  },
  {
   "cell_type": "code",
   "execution_count": 17,
   "metadata": {},
   "outputs": [],
   "source": [
    "assert 573 == 6*1 + 7*2 + 8*3 + 10*4 + 11*5+ 12*6 + 14*7+ 15*8 + 16*9"
   ]
  },
  {
   "cell_type": "code",
   "execution_count": 30,
   "metadata": {},
   "outputs": [
    {
     "name": "stdout",
     "output_type": "stream",
     "text": [
      "_input\n",
      " [[ 1.  2.  3.  4.]\n",
      " [ 5.  6.  7.  8.]\n",
      " [ 9. 10. 11. 12.]\n",
      " [13. 14. 15. 16.]]\n",
      "_filter\n",
      " [[1. 2. 3.]\n",
      " [4. 5. 6.]\n",
      " [7. 8. 9.]]\n",
      "_output\n",
      " [[348. 393.]\n",
      " [528. 573.]]\n"
     ]
    }
   ],
   "source": [
    "tf.reset_default_graph()\n",
    "filter = tf.Variable(filter_np)\n",
    "input = tf.Variable(input_np)\n",
    "output = tf.nn.conv2d(input, filter, [1,1,1,1], 'VALID')\n",
    "\n",
    "with tf.Session() as sess:\n",
    "    sess.run(tf.global_variables_initializer())\n",
    "    _input, _filter, _output = sess.run([input, filter, output])\n",
    "    _input = np.squeeze(_input)\n",
    "    _filter = np.squeeze(_filter)\n",
    "    _output = np.squeeze(_output)\n",
    "\n",
    "    \n",
    "print('_input\\n',_input)\n",
    "print('_filter\\n',_filter)\n",
    "print('_output\\n',_output)\n"
   ]
  },
  {
   "cell_type": "code",
   "execution_count": 29,
   "metadata": {},
   "outputs": [
    {
     "name": "stdout",
     "output_type": "stream",
     "text": [
      "_input\n",
      " [[ 1.  2.  3.  4.]\n",
      " [ 5.  6.  7.  8.]\n",
      " [ 9. 10. 11. 12.]\n",
      " [13. 14. 15. 16.]]\n",
      "_filter\n",
      " [[1. 2. 3.]\n",
      " [4. 5. 6.]\n",
      " [7. 8. 9.]]\n",
      "_output\n",
      " [[231. 348. 393. 252.]\n",
      " [197. 274. 295. 175.]]\n"
     ]
    }
   ],
   "source": [
    "tf.reset_default_graph()\n",
    "filter = tf.Variable(filter_np)\n",
    "input = tf.Variable(input_np)\n",
    "output = tf.nn.conv2d(input, filter, [1,2,1,1], 'SAME')\n",
    "\n",
    "with tf.Session() as sess:\n",
    "    sess.run(tf.global_variables_initializer())\n",
    "    _input, _filter, _output = sess.run([input, filter, output])\n",
    "    _input = np.squeeze(_input)\n",
    "    _filter = np.squeeze(_filter)\n",
    "    _output = np.squeeze(_output)\n",
    "\n",
    "print('_input\\n',_input)\n",
    "print('_filter\\n',_filter)\n",
    "print('_output\\n',_output)"
   ]
  },
  {
   "cell_type": "code",
   "execution_count": null,
   "metadata": {},
   "outputs": [],
   "source": []
  },
  {
   "cell_type": "markdown",
   "metadata": {},
   "source": [
    "## Conv2d vs Transposed_conv2d"
   ]
  },
  {
   "cell_type": "code",
   "execution_count": 28,
   "metadata": {},
   "outputs": [
    {
     "name": "stdout",
     "output_type": "stream",
     "text": [
      "_input\n",
      " [[ 1.  2.  3.  4.]\n",
      " [ 5.  6.  7.  8.]\n",
      " [ 9. 10. 11. 12.]\n",
      " [13. 14. 15. 16.]]\n",
      "_filter\n",
      " [[1. 2. 3.]\n",
      " [4. 5. 6.]\n",
      " [7. 8. 9.]]\n",
      "_output\n",
      " [[ 29.  62.  83.  75.]\n",
      " [ 99. 192. 237. 198.]\n",
      " [207. 372. 417. 330.]\n",
      " [263. 446. 485. 365.]]\n"
     ]
    }
   ],
   "source": [
    "tf.reset_default_graph()\n",
    "filter = tf.Variable(filter_np)\n",
    "input = tf.Variable(input_np)\n",
    "output = tf.nn.conv2d_transpose(input, filter, [1,4,4,1],[1,1,1,1], 'SAME')\n",
    "\n",
    "with tf.Session() as sess:\n",
    "    sess.run(tf.global_variables_initializer())\n",
    "    _input, _filter, _output = sess.run([input, filter, output])\n",
    "    _input = np.squeeze(_input)\n",
    "    _filter = np.squeeze(_filter)\n",
    "    _output = np.squeeze(_output)\n",
    "\n",
    "    \n",
    "print('_input\\n',_input)\n",
    "print('_filter\\n',_filter)\n",
    "print('_output\\n',_output)"
   ]
  },
  {
   "cell_type": "code",
   "execution_count": null,
   "metadata": {},
   "outputs": [],
   "source": []
  },
  {
   "cell_type": "code",
   "execution_count": 34,
   "metadata": {},
   "outputs": [],
   "source": [
    "assert 29 == 1*5 + 2*4 + 5*2 + 6*1"
   ]
  },
  {
   "cell_type": "code",
   "execution_count": 35,
   "metadata": {},
   "outputs": [],
   "source": [
    "assert 365 == 11*9 + 12*8 + 15*6 + 16*5"
   ]
  },
  {
   "cell_type": "code",
   "execution_count": 38,
   "metadata": {},
   "outputs": [
    {
     "name": "stdout",
     "output_type": "stream",
     "text": [
      "_input\n",
      " [[ 1.  2.  3.  4.]\n",
      " [ 5.  6.  7.  8.]\n",
      " [ 9. 10. 11. 12.]\n",
      " [13. 14. 15. 16.]]\n",
      "_filter\n",
      " [[9. 8. 7.]\n",
      " [6. 5. 4.]\n",
      " [3. 2. 1.]]\n",
      "_output\n",
      " [[ 29.  62.  83.  75.]\n",
      " [ 99. 192. 237. 198.]\n",
      " [207. 372. 417. 330.]\n",
      " [263. 446. 485. 365.]]\n"
     ]
    }
   ],
   "source": [
    "tf.reset_default_graph()\n",
    "filter = tf.Variable(filter_np[::-1,::-1,:,:])\n",
    "input = tf.Variable(input_np)\n",
    "output = tf.nn.conv2d(input, filter,[1,1,1,1], 'SAME')\n",
    "\n",
    "with tf.Session() as sess:\n",
    "    sess.run(tf.global_variables_initializer())\n",
    "    _input, _filter, _output = sess.run([input, filter, output])\n",
    "    _input = np.squeeze(_input)\n",
    "    _filter = np.squeeze(_filter)\n",
    "    _output = np.squeeze(_output)\n",
    "\n",
    "    \n",
    "print('_input\\n',_input)\n",
    "print('_filter\\n',_filter)\n",
    "print('_output\\n',_output)"
   ]
  },
  {
   "cell_type": "code",
   "execution_count": 32,
   "metadata": {},
   "outputs": [],
   "source": [
    "trans_filter_np = filter_np[::-1,::-1,:,:]"
   ]
  },
  {
   "cell_type": "code",
   "execution_count": 33,
   "metadata": {},
   "outputs": [
    {
     "name": "stdout",
     "output_type": "stream",
     "text": [
      "[[9. 8. 7.]\n",
      " [6. 5. 4.]\n",
      " [3. 2. 1.]]\n"
     ]
    }
   ],
   "source": [
    "print(np.squeeze(trans_filter_np))"
   ]
  },
  {
   "cell_type": "code",
   "execution_count": 50,
   "metadata": {},
   "outputs": [
    {
     "name": "stdout",
     "output_type": "stream",
     "text": [
      "_input\n",
      " [[ 1.  2.  3.  4.]\n",
      " [ 5.  6.  7.  8.]\n",
      " [ 9. 10. 11. 12.]\n",
      " [13. 14. 15. 16.]]\n",
      "_filter\n",
      " [[1. 2. 3.]\n",
      " [4. 5. 6.]\n",
      " [7. 8. 9.]]\n",
      "_output\n",
      " [[  1.   2.   3.   0.   2.   4.   6.   0.   3.   6.   9.   0.   4.   8.\n",
      "   12.   0.]\n",
      " [  4.   5.   6.   0.   8.  10.  12.   0.  12.  15.  18.   0.  16.  20.\n",
      "   24.   0.]\n",
      " [  7.   8.   9.   0.  14.  16.  18.   0.  21.  24.  27.   0.  28.  32.\n",
      "   36.   0.]\n",
      " [  0.   0.   0.   0.   0.   0.   0.   0.   0.   0.   0.   0.   0.   0.\n",
      "    0.   0.]\n",
      " [  5.  10.  15.   0.   6.  12.  18.   0.   7.  14.  21.   0.   8.  16.\n",
      "   24.   0.]\n",
      " [ 20.  25.  30.   0.  24.  30.  36.   0.  28.  35.  42.   0.  32.  40.\n",
      "   48.   0.]\n",
      " [ 35.  40.  45.   0.  42.  48.  54.   0.  49.  56.  63.   0.  56.  64.\n",
      "   72.   0.]\n",
      " [  0.   0.   0.   0.   0.   0.   0.   0.   0.   0.   0.   0.   0.   0.\n",
      "    0.   0.]\n",
      " [  9.  18.  27.   0.  10.  20.  30.   0.  11.  22.  33.   0.  12.  24.\n",
      "   36.   0.]\n",
      " [ 36.  45.  54.   0.  40.  50.  60.   0.  44.  55.  66.   0.  48.  60.\n",
      "   72.   0.]\n",
      " [ 63.  72.  81.   0.  70.  80.  90.   0.  77.  88.  99.   0.  84.  96.\n",
      "  108.   0.]\n",
      " [  0.   0.   0.   0.   0.   0.   0.   0.   0.   0.   0.   0.   0.   0.\n",
      "    0.   0.]\n",
      " [ 13.  26.  39.   0.  14.  28.  42.   0.  15.  30.  45.   0.  16.  32.\n",
      "   48.   0.]\n",
      " [ 52.  65.  78.   0.  56.  70.  84.   0.  60.  75.  90.   0.  64.  80.\n",
      "   96.   0.]\n",
      " [ 91. 104. 117.   0.  98. 112. 126.   0. 105. 120. 135.   0. 112. 128.\n",
      "  144.   0.]\n",
      " [  0.   0.   0.   0.   0.   0.   0.   0.   0.   0.   0.   0.   0.   0.\n",
      "    0.   0.]]\n"
     ]
    }
   ],
   "source": [
    "tf.reset_default_graph()\n",
    "filter = tf.Variable(filter_np)\n",
    "input = tf.Variable(input_np)\n",
    "output = tf.nn.conv2d_transpose(input, filter, [1,16,16,1],[1,4,4,1], 'SAME')\n",
    "\n",
    "with tf.Session() as sess:\n",
    "    sess.run(tf.global_variables_initializer())\n",
    "    _input, _filter, _output = sess.run([input, filter, output])\n",
    "    _input = np.squeeze(_input)\n",
    "    _filter = np.squeeze(_filter)\n",
    "    _output = np.squeeze(_output)\n",
    "\n",
    "    \n",
    "print('_input\\n',_input)\n",
    "print('_filter\\n',_filter)\n",
    "print('_output\\n',_output)"
   ]
  },
  {
   "cell_type": "code",
   "execution_count": 51,
   "metadata": {},
   "outputs": [
    {
     "name": "stdout",
     "output_type": "stream",
     "text": [
      "_input\n",
      " [[ 0.  0.  0.  0.  0.  0.  0.  0.  0.  0.  0.  0.  0.  0.  0.  0.]\n",
      " [ 0.  1.  0.  0.  0.  2.  0.  0.  0.  3.  0.  0.  0.  4.  0.  0.]\n",
      " [ 0.  0.  0.  0.  0.  0.  0.  0.  0.  0.  0.  0.  0.  0.  0.  0.]\n",
      " [ 0.  0.  0.  0.  0.  0.  0.  0.  0.  0.  0.  0.  0.  0.  0.  0.]\n",
      " [ 0.  0.  0.  0.  0.  0.  0.  0.  0.  0.  0.  0.  0.  0.  0.  0.]\n",
      " [ 0.  5.  0.  0.  0.  6.  0.  0.  0.  7.  0.  0.  0.  8.  0.  0.]\n",
      " [ 0.  0.  0.  0.  0.  0.  0.  0.  0.  0.  0.  0.  0.  0.  0.  0.]\n",
      " [ 0.  0.  0.  0.  0.  0.  0.  0.  0.  0.  0.  0.  0.  0.  0.  0.]\n",
      " [ 0.  0.  0.  0.  0.  0.  0.  0.  0.  0.  0.  0.  0.  0.  0.  0.]\n",
      " [ 0.  9.  0.  0.  0. 10.  0.  0.  0. 11.  0.  0.  0. 12.  0.  0.]\n",
      " [ 0.  0.  0.  0.  0.  0.  0.  0.  0.  0.  0.  0.  0.  0.  0.  0.]\n",
      " [ 0.  0.  0.  0.  0.  0.  0.  0.  0.  0.  0.  0.  0.  0.  0.  0.]\n",
      " [ 0.  0.  0.  0.  0.  0.  0.  0.  0.  0.  0.  0.  0.  0.  0.  0.]\n",
      " [ 0. 13.  0.  0.  0. 14.  0.  0.  0. 15.  0.  0.  0. 16.  0.  0.]\n",
      " [ 0.  0.  0.  0.  0.  0.  0.  0.  0.  0.  0.  0.  0.  0.  0.  0.]\n",
      " [ 0.  0.  0.  0.  0.  0.  0.  0.  0.  0.  0.  0.  0.  0.  0.  0.]]\n",
      "_filter\n",
      " [[9. 8. 7.]\n",
      " [6. 5. 4.]\n",
      " [3. 2. 1.]]\n",
      "_output\n",
      " [[  1.   2.   3.   0.   2.   4.   6.   0.   3.   6.   9.   0.   4.   8.\n",
      "   12.   0.]\n",
      " [  4.   5.   6.   0.   8.  10.  12.   0.  12.  15.  18.   0.  16.  20.\n",
      "   24.   0.]\n",
      " [  7.   8.   9.   0.  14.  16.  18.   0.  21.  24.  27.   0.  28.  32.\n",
      "   36.   0.]\n",
      " [  0.   0.   0.   0.   0.   0.   0.   0.   0.   0.   0.   0.   0.   0.\n",
      "    0.   0.]\n",
      " [  5.  10.  15.   0.   6.  12.  18.   0.   7.  14.  21.   0.   8.  16.\n",
      "   24.   0.]\n",
      " [ 20.  25.  30.   0.  24.  30.  36.   0.  28.  35.  42.   0.  32.  40.\n",
      "   48.   0.]\n",
      " [ 35.  40.  45.   0.  42.  48.  54.   0.  49.  56.  63.   0.  56.  64.\n",
      "   72.   0.]\n",
      " [  0.   0.   0.   0.   0.   0.   0.   0.   0.   0.   0.   0.   0.   0.\n",
      "    0.   0.]\n",
      " [  9.  18.  27.   0.  10.  20.  30.   0.  11.  22.  33.   0.  12.  24.\n",
      "   36.   0.]\n",
      " [ 36.  45.  54.   0.  40.  50.  60.   0.  44.  55.  66.   0.  48.  60.\n",
      "   72.   0.]\n",
      " [ 63.  72.  81.   0.  70.  80.  90.   0.  77.  88.  99.   0.  84.  96.\n",
      "  108.   0.]\n",
      " [  0.   0.   0.   0.   0.   0.   0.   0.   0.   0.   0.   0.   0.   0.\n",
      "    0.   0.]\n",
      " [ 13.  26.  39.   0.  14.  28.  42.   0.  15.  30.  45.   0.  16.  32.\n",
      "   48.   0.]\n",
      " [ 52.  65.  78.   0.  56.  70.  84.   0.  60.  75.  90.   0.  64.  80.\n",
      "   96.   0.]\n",
      " [ 91. 104. 117.   0.  98. 112. 126.   0. 105. 120. 135.   0. 112. 128.\n",
      "  144.   0.]\n",
      " [  0.   0.   0.   0.   0.   0.   0.   0.   0.   0.   0.   0.   0.   0.\n",
      "    0.   0.]]\n"
     ]
    }
   ],
   "source": [
    "tf.reset_default_graph()\n",
    "unsampled_input = np.zeros(shape=[1,16,16,1]).astype(np.float32)\n",
    "unsampled_input[:,1::4,1::4,:] = input_np\n",
    "filter = tf.Variable(filter_np[::-1,::-1,:,:])\n",
    "input = tf.Variable(unsampled_input)\n",
    "output = tf.nn.conv2d(unsampled_input, filter,[1,1,1,1], 'SAME')\n",
    "\n",
    "with tf.Session() as sess:\n",
    "    sess.run(tf.global_variables_initializer())\n",
    "    _input, _filter, _output = sess.run([input, filter, output])\n",
    "    _input = np.squeeze(_input)\n",
    "    _filter = np.squeeze(_filter)\n",
    "    _output = np.squeeze(_output)\n",
    "\n",
    "    \n",
    "print('_input\\n',_input)\n",
    "print('_filter\\n',_filter)\n",
    "print('_output\\n',_output)"
   ]
  },
  {
   "cell_type": "code",
   "execution_count": null,
   "metadata": {},
   "outputs": [],
   "source": []
  }
 ],
 "metadata": {
  "kernelspec": {
   "display_name": "Python 3",
   "language": "python",
   "name": "python3"
  },
  "language_info": {
   "codemirror_mode": {
    "name": "ipython",
    "version": 3
   },
   "file_extension": ".py",
   "mimetype": "text/x-python",
   "name": "python",
   "nbconvert_exporter": "python",
   "pygments_lexer": "ipython3",
   "version": "3.6.10"
  }
 },
 "nbformat": 4,
 "nbformat_minor": 2
}
