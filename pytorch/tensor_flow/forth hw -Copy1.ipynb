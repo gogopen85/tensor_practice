{
 "cells": [
  {
   "cell_type": "markdown",
   "metadata": {},
   "source": [
    "## conv2d_backprop_input vs conv2d_transpose vs conv2d"
   ]
  },
  {
   "cell_type": "code",
   "execution_count": 6,
   "metadata": {},
   "outputs": [],
   "source": [
    "import numpy as np\n",
    "import tensorflow as tf\n",
    "filter_np = np.arange(1,10).reshape(3,3,1,1).astype(np.float32)\n",
    "input_np = np.arange(1,17).reshape(1,4,4,1).astype('float32')"
   ]
  },
  {
   "cell_type": "code",
   "execution_count": 10,
   "metadata": {},
   "outputs": [
    {
     "name": "stdout",
     "output_type": "stream",
     "text": [
      "_input\n",
      " [[111. 178. 217. 145.]\n",
      " [231. 348. 393. 252.]\n",
      " [363. 528. 573. 360.]\n",
      " [197. 274. 295. 175.]]\n",
      "_filter\n",
      " [[1. 2. 3.]\n",
      " [4. 5. 6.]\n",
      " [7. 8. 9.]]\n",
      "_output\n",
      " [[ 2077.  4206.  4815.  3710.]\n",
      " [ 5935. 11358. 12504.  9170.]\n",
      " [ 8879. 16158. 17100. 12026.]\n",
      " [ 8681. 15234. 15675. 10682.]]\n"
     ]
    }
   ],
   "source": [
    "tf.reset_default_graph()\n",
    "w = tf.Variable(filter_np)\n",
    "x = tf.Variable(input_np)\n",
    "\n",
    "dldy = tf.Variable(_y.reshape([1,4,4,1]))\n",
    "dldx = tf.nn.conv2d_backprop_input([1,4,4,1], w,dldy, [1,1,1,1], 'SAME')\n",
    "\n",
    "with tf.Session() as sess:\n",
    "    sess.run(tf.global_variables_initializer())\n",
    "    _dldx, _w, _dldy = sess.run([dldx, w, dldy])\n",
    "    _dldy = np.squeeze(_dldy)\n",
    "    _dldx = np.squeeze(_dldx)\n",
    "    _w = np.squeeze(_w)\n",
    "\n",
    "print('_input\\n',_dldy)\n",
    "print('_filter\\n',_w)\n",
    "print('_output\\n',_dldx)"
   ]
  },
  {
   "cell_type": "code",
   "execution_count": 11,
   "metadata": {},
   "outputs": [
    {
     "name": "stdout",
     "output_type": "stream",
     "text": [
      "_input\n",
      " [[111. 178. 217. 145.]\n",
      " [231. 348. 393. 252.]\n",
      " [363. 528. 573. 360.]\n",
      " [197. 274. 295. 175.]]\n",
      "_filter\n",
      " [[1. 2. 3.]\n",
      " [4. 5. 6.]\n",
      " [7. 8. 9.]]\n",
      "_output\n",
      " [[ 2077.  4206.  4815.  3710.]\n",
      " [ 5935. 11358. 12504.  9170.]\n",
      " [ 8879. 16158. 17100. 12026.]\n",
      " [ 8681. 15234. 15675. 10682.]]\n"
     ]
    }
   ],
   "source": [
    "tf.reset_default_graph()\n",
    "w = tf.Variable(filter_np)\n",
    "x = tf.Variable(input_np)\n",
    "\n",
    "dldy = tf.Variable(_y.reshape([1,4,4,1]))\n",
    "dldx = tf.nn.conv2d_transpose(dldy, w,[1,4,4,1], [1,1,1,1], 'SAME')\n",
    "\n",
    "with tf.Session() as sess:\n",
    "    sess.run(tf.global_variables_initializer())\n",
    "    _dldx, _w, _dldy = sess.run([dldx, w, dldy])\n",
    "    _dldy = np.squeeze(_dldy)\n",
    "    _dldx = np.squeeze(_dldx)\n",
    "    _w = np.squeeze(_w)\n",
    "\n",
    "print('_input\\n',_dldy)\n",
    "print('_filter\\n',_w)\n",
    "print('_output\\n',_dldx)"
   ]
  },
  {
   "cell_type": "code",
   "execution_count": 14,
   "metadata": {},
   "outputs": [
    {
     "name": "stdout",
     "output_type": "stream",
     "text": [
      "_input\n",
      " [[111. 178. 217. 145.]\n",
      " [231. 348. 393. 252.]\n",
      " [363. 528. 573. 360.]\n",
      " [197. 274. 295. 175.]]\n",
      "_filter\n",
      " [[9. 8. 7.]\n",
      " [6. 5. 4.]\n",
      " [3. 2. 1.]]\n",
      "_output\n",
      " [[ 2077.  4206.  4815.  3710.]\n",
      " [ 5935. 11358. 12504.  9170.]\n",
      " [ 8879. 16158. 17100. 12026.]\n",
      " [ 8681. 15234. 15675. 10682.]]\n"
     ]
    }
   ],
   "source": [
    "tf.reset_default_graph()\n",
    "w = tf.Variable(filter_np[::-1,::-1,:])\n",
    "x = tf.Variable(input_np)\n",
    "\n",
    "dldy = tf.Variable(_y.reshape([1,4,4,1]))\n",
    "dldx = tf.nn.conv2d(dldy, w, [1,1,1,1], 'SAME')\n",
    "\n",
    "with tf.Session() as sess:\n",
    "    sess.run(tf.global_variables_initializer())\n",
    "    _dldx, _w, _dldy = sess.run([dldx, w, dldy])\n",
    "    _dldy = np.squeeze(_dldy)\n",
    "    _dldx = np.squeeze(_dldx)\n",
    "    _w = np.squeeze(_w)\n",
    "\n",
    "print('_input\\n',_dldy)\n",
    "print('_filter\\n',_w)\n",
    "print('_output\\n',_dldx)"
   ]
  },
  {
   "cell_type": "markdown",
   "metadata": {},
   "source": [
    "## conv2d_backprop_filter vs conv2d"
   ]
  },
  {
   "cell_type": "code",
   "execution_count": 19,
   "metadata": {},
   "outputs": [
    {
     "name": "stdout",
     "output_type": "stream",
     "text": [
      "_input\n",
      " [[111. 178. 217. 145.]\n",
      " [231. 348. 393. 252.]\n",
      " [363. 528. 573. 360.]\n",
      " [197. 274. 295. 175.]]\n",
      "_filter\n",
      " [[1. 2. 3.]\n",
      " [4. 5. 6.]\n",
      " [7. 8. 9.]]\n",
      "_output\n",
      " [[17829. 24846. 22060.]\n",
      " [31668. 42500. 36492.]\n",
      " [33327. 43674. 36672.]]\n"
     ]
    }
   ],
   "source": [
    "tf.reset_default_graph()\n",
    "w = tf.Variable(filter_np)\n",
    "x = tf.Variable(input_np)\n",
    "dldy = tf.Variable(_y.reshape([1,4,4,1]))\n",
    "dldw = tf.nn.conv2d_backprop_filter(x,[3,3,1,1],dldy, [1,1,1,1], 'SAME')\n",
    "\n",
    "with tf.Session() as sess:\n",
    "    sess.run(tf.global_variables_initializer())\n",
    "    _dldw, _w, _dldy = sess.run([dldw, w, dldy])\n",
    "    _dldy = np.squeeze(_dldy)\n",
    "    _dldw = np.squeeze(_dldw)\n",
    "    _w = np.squeeze(_w)\n",
    "\n",
    "print('_input\\n',_dldy)\n",
    "print('_filter\\n',_w)\n",
    "print('_output\\n',_dldw)"
   ]
  },
  {
   "cell_type": "code",
   "execution_count": 21,
   "metadata": {},
   "outputs": [
    {
     "name": "stdout",
     "output_type": "stream",
     "text": [
      "_input\n",
      " [[111. 178. 217. 145.]\n",
      " [231. 348. 393. 252.]\n",
      " [363. 528. 573. 360.]\n",
      " [197. 274. 295. 175.]]\n",
      "_filter\n",
      " [[1. 2. 3.]\n",
      " [4. 5. 6.]\n",
      " [7. 8. 9.]]\n",
      "_output\n",
      " [[17829. 24846. 22060. 14305.]\n",
      " [31668. 42500. 36492. 23114.]\n",
      " [33327. 43674. 36672. 22811.]\n",
      " [19173. 24708. 20414. 12390.]]\n"
     ]
    }
   ],
   "source": [
    "tf.reset_default_graph()\n",
    "w = tf.Variable(filter_np)\n",
    "x = tf.Variable(input_np)\n",
    "dldy = tf.Variable(_y.reshape([1,4,4,1]))\n",
    "dldy = tf.reshape(dldy,[4,4,1,1,])\n",
    "dldw = tf.nn.conv2d(x,dldy, [1,1,1,1], 'SAME')\n",
    "\n",
    "with tf.Session() as sess:\n",
    "    sess.run(tf.global_variables_initializer())\n",
    "    _dldw, _w, _dldy = sess.run([dldw, w, dldy])\n",
    "    _dldy = np.squeeze(_dldy)\n",
    "    _dldw = np.squeeze(_dldw)\n",
    "    _w = np.squeeze(_w)\n",
    "\n",
    "print('_input\\n',_dldy)\n",
    "print('_filter\\n',_w)\n",
    "print('_output\\n',_dldw)"
   ]
  },
  {
   "cell_type": "code",
   "execution_count": null,
   "metadata": {},
   "outputs": [],
   "source": []
  },
  {
   "cell_type": "code",
   "execution_count": null,
   "metadata": {},
   "outputs": [],
   "source": []
  },
  {
   "cell_type": "code",
   "execution_count": null,
   "metadata": {},
   "outputs": [],
   "source": []
  },
  {
   "cell_type": "code",
   "execution_count": null,
   "metadata": {},
   "outputs": [],
   "source": []
  }
 ],
 "metadata": {
  "kernelspec": {
   "display_name": "Python 3",
   "language": "python",
   "name": "python3"
  },
  "language_info": {
   "codemirror_mode": {
    "name": "ipython",
    "version": 3
   },
   "file_extension": ".py",
   "mimetype": "text/x-python",
   "name": "python",
   "nbconvert_exporter": "python",
   "pygments_lexer": "ipython3",
   "version": "3.5.2"
  }
 },
 "nbformat": 4,
 "nbformat_minor": 2
}
